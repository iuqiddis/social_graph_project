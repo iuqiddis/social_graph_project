{
 "cells": [
  {
   "cell_type": "markdown",
   "metadata": {},
   "source": [
    "# The New York Social Graph\n"
   ]
  },
  {
   "cell_type": "markdown",
   "metadata": {},
   "source": [
    "The goal of this project was to get familar with web scraping, data cleaning, and eventually making a graph network of social connections.\n",
    "\n",
    "[New York Social Diary](https://web.archive.org/web/20150913224145/http://www.newyorksocialdiary.com/) is a kind-of  voyeuristic view into New York's socially well-to-do. The data forms a natural social graph for New York's social elite, and such is an interesting dataset to play with.  An example is the this page of a [run-of-the-mill holiday party](https://web.archive.org/web/20150913224145/http://www.newyorksocialdiary.com/party-pictures/2014/holiday-dinners-and-doers). Please note that these links point to the internet archive, as the original website has recently removed most of its archives. Many of the images no longer load, but all the HTML is still there.\n",
    "\n",
    "For the purpose of this project, the photos have carefully annotated captions labeling, which implicitly imply a social graph: there is a connection between two individuals if they appear in a picture together.\n",
    "\n",
    "For this project, I'll assemble the social graph from photo captions for parties dated December 1, 2014 (arbitrary cut-off for filtering), and before.  Using this graph, I'll make guesses at the most popular socialites, the most influential people, and the most tightly coupled pairs.\n",
    "\n",
    "I will attack the project in three phases:\n",
    "1. Get a list of all the photo pages to be analyzed.\n",
    "2. Parse all of the captions on a sample page.\n",
    "3. Parse all of the captions on all pages, and assemble the graph.\n",
    "\n",
    "**Note:** This was an old project I worked on, and if I was to re-do it from scratch, my approach would be slightly different and cleaner (code wise) when it came to the names extraction portion (phase 2)."
   ]
  },
  {
   "cell_type": "markdown",
   "metadata": {},
   "source": [
    "## Phase One\n"
   ]
  },
  {
   "cell_type": "markdown",
   "metadata": {},
   "source": [
    "The first step is to crawl the data. I want photos from parties on or before December 1st, 2014. I'll get the URL's and dates from the [Party Pictures Archive](https://web.archive.org/web/20150913224145/http://www.newyorksocialdiary.com/party-pictures) to see a list of (party) pages."
   ]
  },
  {
   "cell_type": "code",
   "execution_count": 1,
   "metadata": {},
   "outputs": [],
   "source": [
    "%matplotlib inline\n",
    "import matplotlib.pyplot as plt\n",
    "import requests\n",
    "import dill\n",
    "from bs4 import BeautifulSoup\n",
    "from datetime import datetime as dt\n",
    "import time\n",
    "import re\n",
    "import pandas as pd\n",
    "import spacy\n",
    "import numpy as np\n",
    "import itertools\n",
    "import operator\n",
    "import seaborn as sns\n",
    "import networkx as nx\n",
    "sns.set()\n",
    "plt.rcParams['figure.dpi'] = 144\n",
    "nlp = spacy.load('en_core_web_sm')"
   ]
  },
  {
   "cell_type": "markdown",
   "metadata": {},
   "source": [
    "I'll use Python [Requests](http://docs.python-requests.org/en/master/) to download the HTML pages, and [BeautifulSoup](https://www.crummy.com/software/BeautifulSoup/) to process the HTML.  I'll start by getting the [first page](https://web.archive.org/web/20150913224145/http://www.newyorksocialdiary.com/party-pictures). I added the user-agent as requests was returning a ClientError otherwise ([stackoverflow post](https://stackoverflow.com/questions/35137724/python-requests-client-error-bad-request-but-works-after-website-has-been-open))."
   ]
  },
  {
   "cell_type": "code",
   "execution_count": 2,
   "metadata": {},
   "outputs": [],
   "source": [
    "def soupify(wbpage):\n",
    "    u_a = 'Mozilla/5.0 (X11; Linux x86_64)'\n",
    "    page = requests.get(wbpage, headers={\"USER-AGENT\":u_a})\n",
    "    if page.status_code != 200:\n",
    "        print(f'status code: {page.status_code}')\n",
    "    _soup = BeautifulSoup(page.text, 'lxml')\n",
    "    return _soup"
   ]
  },
  {
   "cell_type": "code",
   "execution_count": null,
   "metadata": {},
   "outputs": [],
   "source": [
    "wbsite = 'https://web.archive.org/web/20190206202736/http://www.newyorksocialdiary.com/party-pictures'\n",
    "soup = soupify(wbsite)"
   ]
  },
  {
   "cell_type": "code",
   "execution_count": null,
   "metadata": {},
   "outputs": [],
   "source": [
    "print(soup.prettify())"
   ]
  },
  {
   "cell_type": "markdown",
   "metadata": {},
   "source": [
    "This page has links to 50 party pages. I looked at the html to see if I can detect a pattern of where the URL's are located. It seems that the links are in the `div.views-row span.field-content a` tag. I will use BeautifulSoup's [select](https://www.crummy.com/software/BeautifulSoup/bs4/doc/#css-selectors) method to get those elements."
   ]
  },
  {
   "cell_type": "code",
   "execution_count": 3,
   "metadata": {},
   "outputs": [],
   "source": [
    "def getlinks(_soup):\n",
    "    link_divs = _soup.select('div.views-row span.field-content a') # The a only selects the links span\n",
    "    reg_str = '<a href=\"(.*)\">'\n",
    "    print('Total links in tags:', len(link_divs))\n",
    "    \n",
    "    _cml =  [] # completed links\n",
    "    for link in link_divs:\n",
    "        cmp = re.findall(reg_str, str(link))\n",
    "        #regex library takes only strins, so converted list object to string.\n",
    "        _cml.append('https://web.archive.org{}'.format(cmp[0]))\n",
    "\n",
    "    return _cml"
   ]
  },
  {
   "cell_type": "code",
   "execution_count": null,
   "metadata": {},
   "outputs": [],
   "source": [
    "cml = getlinks(soup)\n",
    "print('The length of this URL list is:', len(cml), '\\n')\n",
    "print('First 5  urls are:\\n')\n",
    "for i in cml[0:5]:\n",
    "    print(i)"
   ]
  },
  {
   "cell_type": "markdown",
   "metadata": {},
   "source": [
    "I also want to get the assoicated dates with these links. This requires separting the same tag into URL and date fields.I used the `datetime.strptime` to extract dates as datetime objects."
   ]
  },
  {
   "cell_type": "code",
   "execution_count": 4,
   "metadata": {},
   "outputs": [],
   "source": [
    "def getdates(_soup):\n",
    "    link_divs = _soup.select('div.views-row span.field-content')  \n",
    "    # Unlike getlinks(), cannot exclusively select dates\n",
    "    print('Length(URL + dates):', len(link_divs), end=' ')\n",
    "    ti = int(len(link_divs)/2)\n",
    "    link_divs2 = [i for i in range(ti)]\n",
    "    for i in link_divs2:\n",
    "        link_divs2[i] = link_divs[i*2+1]\n",
    "\n",
    "    print(';  Length(dates):', len(link_divs2))\n",
    "\n",
    "    reg_str = '<span class=\"field-content\">\\w*,(.*)<\\/span>'\n",
    "    cmp= list(range(0,ti))\n",
    "    cmt= list(range(0,ti))\n",
    "\n",
    "    for i in range(0,len(link_divs2)): #needed the range function as link_divs2 is not a list\n",
    "        cmp[i] = re.findall(reg_str, str(link_divs2[i]))\n",
    "        cmt[i] = dt.strptime(str(cmp[i]), \"[' %B %d, %Y']\")\n",
    "\n",
    "\n",
    "    return cmp,cmt"
   ]
  },
  {
   "cell_type": "code",
   "execution_count": null,
   "metadata": {},
   "outputs": [],
   "source": [
    "cmp2, cmt = getdates(soup)\n",
    "print('The length of this \"date\" list is:', len(cmp2), '\\n')\n",
    "print('First 5 dates are:\\n', cmp2[0:5], '\\n')\n",
    "print('First 5 dates are:\\n', cmt[0:5], '\\n')"
   ]
  },
  {
   "cell_type": "markdown",
   "metadata": {},
   "source": [
    "Now I'll get all of the party URLs.  After looking at the index pages and seeing that subsequent pages have `?page=i` appended, I'll write a script to loop through all the pages and extract the party URLs."
   ]
  },
  {
   "cell_type": "code",
   "execution_count": null,
   "metadata": {},
   "outputs": [],
   "source": [
    "cml, cmp2, cmt = [], [], []\n",
    "wbsite  = 'https://web.archive.org/web/20150913224145/http://www.newyorksocialdiary.com/party-pictures'\n",
    "\n",
    "\n",
    "for i in range(0,27):\n",
    "    if i == 0:\n",
    "        wb2 = wbsite\n",
    "    else:\n",
    "        wb2 = wbsite+ f'?page={i}'\n",
    "    print(f'URL count: {i}, URL page#: {i+1}')\n",
    "    soup = soupify(wb2)\n",
    "\n",
    "    cml = cml + getlinks(soup)\n",
    "\n",
    "    cmpp2, cmtp = getdates(soup)\n",
    "    cmp2 = cmp2 + cmpp2\n",
    "    cmt = cmt + cmtp\n",
    "\n",
    "    time.sleep(1) # was timing out as I may have been hitting the server too hard. Does slow down retrieval a lot."
   ]
  },
  {
   "cell_type": "code",
   "execution_count": null,
   "metadata": {},
   "outputs": [],
   "source": [
    "n = 0\n",
    "print(cml[n], cmp2[n], cmt[n], sep='\\n')"
   ]
  },
  {
   "cell_type": "markdown",
   "metadata": {},
   "source": [
    "But we only want parties with dates on or before the first of December, 2014.  Let's write a function to filter our list of dates to those at or before a cutoff.  Using a keyword argument, we can put in a default cutoff, but allow us to test with others."
   ]
  },
  {
   "cell_type": "code",
   "execution_count": null,
   "metadata": {},
   "outputs": [],
   "source": [
    "df = pd.DataFrame({'date': cmt,\n",
    "                   'url': cml})\n",
    "df = df[df['date'] <= '2014-12-01']\n",
    "df.head()"
   ]
  },
  {
   "cell_type": "markdown",
   "metadata": {},
   "source": [
    "In the end, I had about 1213 pages. I saved the url list as a text file, as well as a serialized object using the `dill` package so I don't have to re-hit the server every time and just start from here. To restore the list, I can either read the `txt` file or import the `pkd` file."
   ]
  },
  {
   "cell_type": "code",
   "execution_count": 5,
   "metadata": {},
   "outputs": [],
   "source": [
    "# you want the one or the other to be commented out\n",
    "#dill.dump(df, open('df_all_urls.pkd', 'wb'))\n",
    "df = dill.load(open('df_all_urls.pkd', 'rb'))"
   ]
  },
  {
   "cell_type": "markdown",
   "metadata": {},
   "source": [
    "## Checkpost 1: Histogram\n",
    "\n",
    "Just to explore the data, let's see the number of parties per month. A histogram is probably the best way to visualize the data. I also output the histogram values into a tuple, if I want to look up the exact numbers, or export them.\n",
    "\n",
    "There may be a cleverer way of changing from the full date to a year-month datetime object (for binning), but I couldn't find one, so I did a two-step procedure:"
   ]
  },
  {
   "cell_type": "code",
   "execution_count": 6,
   "metadata": {},
   "outputs": [],
   "source": [
    "df['mY'] = df['date'].dt.strftime('%b-%Y')\n",
    "df['mY'] = pd.to_datetime(df['mY'], format='%b-%Y')"
   ]
  },
  {
   "cell_type": "code",
   "execution_count": 16,
   "metadata": {},
   "outputs": [
    {
     "data": {
      "image/png": "[encoded data removed]",
      "text/plain": [
       "<Figure size 720x432 with 1 Axes>"
      ]
     },
     "metadata": {
      "needs_background": "light"
     },
     "output_type": "display_data"
    }
   ],
   "source": [
    "fig, ax = plt.subplots(figsize=(10,6))\n",
    "ax.hist(df['mY'], bins=len(df['mY'].unique()))\n",
    "plt.show()\n",
    "\n"
   ]
  },
  {
   "cell_type": "code",
   "execution_count": null,
   "metadata": {},
   "outputs": [],
   "source": [
    "df_grp = df.groupby(['mY'], as_index=False)\n",
    "grp_ct = df_grp['mY'].size().tolist()\n",
    "\n",
    "hgram = []\n",
    "for i,j in zip(df_grp, grp_ct):\n",
    "    hgram.append((dt.strftime(i[0],'%Y-%m'), j))\n",
    "\n",
    "print(len(hgram))\n",
    "print(hgram[0:5])"
   ]
  },
  {
   "cell_type": "markdown",
   "metadata": {},
   "source": [
    "## Phase Two\n",
    "\n",
    "In this phase, I will concentrate on getting the names out of captions for a given page. This is not exactly a precise procedure, but the hope is to find enough structure in each page to extract the captions (via BeautifulSoup), separate multiple names (regex), and parse them out from non-name words (using the Spacy NLP library).\n",
    "\n",
    "HTTP requests fail occasionally, I could have used the [retrying module](https://pypi.python.org/pypi/retrying) as a way to re-try a failed request, but in my case almost all of the pages were collected, so I didn't bother implementing it."
   ]
  },
  {
   "cell_type": "code",
   "execution_count": null,
   "metadata": {},
   "outputs": [],
   "source": [
    "# getting the url list for parsing\n",
    "url_list = df['url'].tolist()\n",
    "fid = open('url.txt', 'w')\n",
    "\n",
    "for i in url_list:\n",
    "    fid.write(f'{i}\\n')"
   ]
  },
  {
   "cell_type": "code",
   "execution_count": 17,
   "metadata": {},
   "outputs": [],
   "source": [
    "# you want the one or the other to be commented out\n",
    "# dill.dump(url_list, open('url_list.pkd', 'wb'))\n",
    "url_list = dill.load(open('url_list.pkd', 'rb'))"
   ]
  },
  {
   "cell_type": "code",
   "execution_count": 18,
   "metadata": {},
   "outputs": [],
   "source": [
    "# Need this function as soup objects don't serialize well. \n",
    "# So I'll scrape the individual pages and save them for offline access\n",
    "\n",
    "def pre_soup(wbpage):\n",
    "    u_a = 'Mozilla/5.0 (X11; Linux x86_64)'\n",
    "    page = requests.get(wbpage, headers={\"USER-AGENT\":u_a})\n",
    "    if page.status_code != 200:\n",
    "        print(f'status code: {page.status_code}')\n",
    "    return page.text\n"
   ]
  },
  {
   "cell_type": "code",
   "execution_count": null,
   "metadata": {},
   "outputs": [],
   "source": [
    "all_pages = []\n",
    "for i,j in enumerate(url_list):\n",
    "    all_pages.append(pre_soup(j))\n",
    "    if i%10 == 0:\n",
    "        print(i)"
   ]
  },
  {
   "cell_type": "markdown",
   "metadata": {},
   "source": [
    "I am saving the retrieved pages before I use the `BeautifulSoup`. This is mostly because [serializing Soup objects can lead to failures](https://stackoverflow.com/questions/24563148/beautifulsoup-object-will-not-pickle-causes-interpreter-to-silently-crash), so its easier to save the retrieved pages. Another option is to use a checkpoint library like [ediblepickle](https://pypi.python.org/pypi/ediblepickle/1.1.3) to automate this for me by adding a decorator."
   ]
  },
  {
   "cell_type": "code",
   "execution_count": 19,
   "metadata": {},
   "outputs": [],
   "source": [
    "# dill.dump(all_pages, open('all_pages.pkd', 'wb'))\n",
    "all_pages = dill.load(open('all_pages.pkd', 'rb'))"
   ]
  },
  {
   "cell_type": "markdown",
   "metadata": {},
   "source": [
    "Similar to extracting the links, I'll be extracting captions from the pages now. Based on inspecting various pages, I realized that in most cases the tag `<div>` contains the captions. However, in a large minority of pages, the captions are found in the `<td>` tag, so have to select those elements as well. I used the site https://regexr.com/ to check my regular expressions before using them here."
   ]
  },
  {
   "cell_type": "code",
   "execution_count": 20,
   "metadata": {},
   "outputs": [],
   "source": [
    "    def getcaptions(_soup):\n",
    "        link_td = _soup.select('td.photocaption') # For graph 2 question\n",
    "        link_div = _soup.select('div.photocaption')  # For graph 2 question alternate selection\n",
    "        all_links = link_td + link_div\n",
    "        \n",
    "        pat_div = '<div.*?>(.*)<\\/div>'\n",
    "        pat_td = '<td.*?>(.*)<\\/td>'\n",
    "        cml = []\n",
    "        \n",
    "        for i in all_links:\n",
    "            cmp = re.findall(pat_div, str(i))\n",
    "            if not cmp:\n",
    "                cmp = re.findall(pat_td, str(i))\n",
    "            cml.append(cmp)\n",
    "\n",
    "        return cml"
   ]
  },
  {
   "cell_type": "markdown",
   "metadata": {},
   "source": [
    "Now the hardest part of this business; that is parsing out all the names from these captions. My approach was more or less the following:\n",
    "1. Cut off captions that are long (>250 characters) as they tend to be more descriptive than named captions.\n",
    "2. Clean up stray spacing, prefixes, suffixes, etc.\n",
    "3. Split names, couple names, and other formatting quirks with regular expressions.\n",
    "4. Use SpaCy's [entity recognition](https://spacy.io/docs/usage/entity-recognition) to select proper nouns as names\n",
    "\n",
    "To be honest this is a painful process that you can work till perfection, but my goal is to get a solid working parser and refine it until I feel it's getting more than 85% of the cases on randomly selected pages.\n",
    "\n",
    "The function below is the first pass cleaning of each tag. It just strips the most common 'dirtyness' of the data (extra spacing, prepositions, ending descriptions)."
   ]
  },
  {
   "cell_type": "code",
   "execution_count": 21,
   "metadata": {},
   "outputs": [],
   "source": [
    "def strip_clean(_cmp):\n",
    "    for i in _cmp:\n",
    "        if not i: #added this as otherwise indexing would choke on an empty list item\n",
    "            #print('cmp[',i,'] is an empty array')\n",
    "            continue\n",
    "        elif len(i[0]) > 250:\n",
    "            #print('Greater than 250 characters. skipping it')\n",
    "            continue\n",
    "        else:\n",
    "            reg_str = '^\\s'\n",
    "            i[0] = re.sub(reg_str, '', i[0])\n",
    "\n",
    "            reg_str = '\\s$'\n",
    "            i[0] = re.sub(reg_str, '', i[0])\n",
    "\n",
    "            if ' at ' in i[0]:\n",
    "                reg_str = '\\sat\\s.*'\n",
    "                i[0] = re.sub(reg_str, '', i[0])\n",
    "\n",
    "            if '(' in i[0]:\n",
    "                #print('Removed a parenthesis from ', i)\n",
    "                reg_str = '\\(.*\\)'\n",
    "                i[0] = re.sub(reg_str, '', i[0])\n",
    "\n",
    "            if 'and friend' in i[0]:\n",
    "                #print(\"Removing 'and friend(s)' from this item:\", i)\n",
    "                reg_str = '\\sand\\sfriends*'\n",
    "                i[0] = re.sub(reg_str, '', i[0])\n",
    "            \n",
    "            if '<' in i[0]:\n",
    "                #print('Removed a parenthesis from ', i)\n",
    "                reg_str = '<.*>'\n",
    "                i[0] = re.sub(reg_str, '', i[0])\n",
    "    return _cmp"
   ]
  },
  {
   "cell_type": "code",
   "execution_count": 22,
   "metadata": {},
   "outputs": [],
   "source": [
    "def split_names(cmp):\n",
    "    nms = {}\n",
    "    for i in range(0,len(cmp)): # putting each name into its own list\n",
    "        nms[i] = {}\n",
    "        # print(i)\n",
    "        if not cmp[i]: #added this as otherwise indexing would choke on an empty list item\n",
    "            continue\n",
    "            #print('cmp[',i,'] is an empty array')\n",
    "        elif len(cmp[i][0]) > 250:\n",
    "            continue\n",
    "            #print('Greater than 250 characters. skipping it')\n",
    "        elif not(',' in cmp[i][0]):\n",
    "            # not the cleverest code here, but I run the same cleaning on single names and multiple names (down below)\n",
    "            if ' Jr.' in cmp[i][0]: #added this to deal with ,Jr. supposedly\n",
    "                #print(\"Removing ' Jr. ' from this item:\", cmp[i][0])\n",
    "                reg_str = '\\sJr\\.'\n",
    "                cmp[i][0] = re.sub(reg_str, '', cmp[i][0])\n",
    "\n",
    "            if ' MD' in cmp[i][0]:\n",
    "                #print(\"Removing 'MD ' from this item:\", cmp[i][0])\n",
    "                reg_str = '\\sMD'\n",
    "                cmp[i][0] = re.sub(reg_str, '', cmp[i][0])\n",
    "\n",
    "            if ' M.D.' in cmp[i][0]:\n",
    "                #print(\"Removing 'M.D. ' from this item:\", cmp[i][0])\n",
    "                reg_str = '\\s*M\\.D\\.'\n",
    "                cmp[i][0] = re.sub(reg_str, '', cmp[i][0])\n",
    "\n",
    "            if ' M D' in cmp[i][0]:\n",
    "                #print(\"Removing 'M.D. ' from this item:\", cmp[i][0])\n",
    "                reg_str = '\\s*M\\sD'\n",
    "                cmp[i][0] = re.sub(reg_str, '', cmp[i][0])\n",
    "\n",
    "            reg_str = '^([^\\s]+)\\s+and\\s+([^\\s]+)\\s+([^\\s]+)$' # separating 'first and first last' name format\n",
    "            if not(' and ' in cmp[i][0]): # means just a single name in this caption\n",
    "                nms[i][0] = (cmp[i][0])\n",
    "            elif re.search(reg_str, cmp[i][0]):\n",
    "                rout = re.findall(reg_str, cmp[i][0])\n",
    "                nms[i] = {}\n",
    "                nms[i][0] = rout[0][0] + ' ' + rout[0][2]\n",
    "                nms[i][1] = rout[0][1] + ' ' + rout[0][2]\n",
    "                #print('Split this first and first last name for', i)\n",
    "            else:\n",
    "                #print('Split these two names caption for', i, cmp[i])\n",
    "                ln1 = cmp[i][0].split(' and ') #list of names 1 and 2\n",
    "                nms[i] = {}\n",
    "                nms[i][0] = ln1[0]\n",
    "                nms[i][1] = ln1[1]\n",
    "        else:\n",
    "            if ' Jr.' in cmp[i][0]: #added this to deal with ,Jr. supposedly\n",
    "                #print(\"Removing ' Jr. ' from this item:\", cmp[i][0])\n",
    "                reg_str = '\\sJr\\.'\n",
    "                cmp[i][0] = re.sub(reg_str, '', cmp[i][0])\n",
    "\n",
    "            if 'MD' in cmp[i][0]:\n",
    "                #print(\"Removing 'MD ' from this item:\", cmp[i][0])\n",
    "                reg_str = '\\sMD'\n",
    "                cmp[i][0] = re.sub(reg_str, '', cmp[i][0])\n",
    "\n",
    "            if 'M.D.' in cmp[i][0]:\n",
    "                #print(\"Removing 'M.D. ' from this item:\", cmp[i][0])\n",
    "                reg_str = '\\s*M\\.D\\.'\n",
    "                cmp[i][0] = re.sub(reg_str, '', cmp[i][0])\n",
    "\n",
    "            if ' M D' in cmp[i][0]:\n",
    "                #print(\"Removing 'M.D. ' from this item:\", cmp[i][0])\n",
    "                reg_str = '\\s*M\\sD'\n",
    "                cmp[i][0] = re.sub(reg_str, '', cmp[i][0])\n",
    "            \n",
    "            ln = cmp[i][0].split(', ') # list of names assuming separated by comma\n",
    "            for j in range(0,len(ln)):\n",
    "                if 'and ' in ln[j]:\n",
    "                    ln[j] = re.sub('and\\s', '', ln[j])\n",
    "                nms[i][j] = ln[j]\n",
    "    return nms"
   ]
  },
  {
   "cell_type": "code",
   "execution_count": 23,
   "metadata": {},
   "outputs": [],
   "source": [
    "def clean_things2(nmi):\n",
    "    \n",
    "    reg_str = '<.*?>'\n",
    "    nmi = re.sub(reg_str, '', nmi)\n",
    "    \n",
    "    if 'and ' in nmi:\n",
    "        #print(\"Removing 'and' from from of this item:\", nmi)\n",
    "        reg_str = '^and\\s'\n",
    "        nmi = re.sub(reg_str, '', nmi)\n",
    "\n",
    "    if 'with ' in nmi:\n",
    "        #print(\"Removing 'with' from from of this item:\", i, nmi)\n",
    "        reg_str = ' with '\n",
    "        nmi = nmi.split(reg_str)\n",
    "\n",
    "    if 'Mayor ' in nmi:\n",
    "        #print(\"Removing 'Mayor ' from this item\", nmi)\n",
    "        reg_str = '^Mayor\\s'\n",
    "        nmi = re.sub(reg_str, '', nmi)\n",
    "\n",
    "    if 'President ' in nmi:\n",
    "        #print(\"Removing 'President ' from this item\", nmi)\n",
    "        reg_str = '^President\\s'\n",
    "        nmi = re.sub(reg_str, '', nmi)\n",
    "\n",
    "    if 'Consul General ' in nmi:\n",
    "        #print(\"Removing 'Consul General ' from this item\", nmi)\n",
    "        reg_str = '^Consul General\\s'\n",
    "        nmi = re.sub(reg_str, '', nmi)\n",
    "\n",
    "    if 'Sir ' in nmi:\n",
    "        #print(\"Removing 'Sir ' from this item\", nmi)\n",
    "        reg_str = '^Sir\\s'\n",
    "        nmi = re.sub(reg_str, '', nmi)\n",
    "\n",
    "    if 'HRH Princess ' in nmi:\n",
    "        #print(\"Removing 'HRH Princess ' from this item\", nmi)\n",
    "        reg_str = '^HRH\\sPrincess\\s'\n",
    "        nmi = re.sub(reg_str, '', nmi)\n",
    "\n",
    "    if 'Ambassador ' in nmi:\n",
    "        #print(\"Ambassador ' from this item\", nmi)\n",
    "        reg_str = '^Ambassador\\s'\n",
    "        nmi = re.sub(reg_str, '', nmi)\n",
    "\n",
    "    if 'Dr. ' in nmi:\n",
    "        #print(\"Removing 'Dr. ' from this item\", nmi)\n",
    "        reg_str = '^Dr\\.\\s'\n",
    "        nmi = re.sub(reg_str, '', nmi)\n",
    "\n",
    "    if 'Mr. ' in nmi:\n",
    "        #print(\"Removing 'Mr. ' from this item:\", nmi)\n",
    "        reg_str = '^Mr\\.\\s'\n",
    "        nmi = re.sub(reg_str, '', nmi)\n",
    "\n",
    "    if 'Mrs. ' in nmi:\n",
    "        #print(\"Removing 'Mrs. ' from this item:\", nmi)\n",
    "        reg_str = '^Mrs\\.\\s'\n",
    "        nmi = re.sub(reg_str, '', nmi)\n",
    "\n",
    "    if 'Esq.' in nmi:\n",
    "        #print(\"Removing 'Esq. ' from this item:\", nmi)\n",
    "        reg_str = '\\s*Esq\\.$'\n",
    "        nmi = re.sub(reg_str, '', nmi)\n",
    "\n",
    "    # if 'MD' in nmi:\n",
    "    #     #print(\"Removing 'MD ' from this item:\", nmi)\n",
    "    #     reg_str = '\\sMD$'\n",
    "    #     nmi = re.sub(reg_str, '', nmi)\n",
    "\n",
    "    if 'M.D.' in nmi:\n",
    "        #print(\"Removing 'M.D. ' from this item:\", nmi)\n",
    "        reg_str = '\\s*M\\.D\\.$'\n",
    "        nmi = re.sub(reg_str, '', nmi)\n",
    "\n",
    "    if 'Jr.' in nmi:\n",
    "        #print(\"Removing 'Jr. ' from this item:\", nmi)\n",
    "        reg_str = '\\s*Jr\\.$'\n",
    "        nmi = re.sub(reg_str, '', nmi)\n",
    "\n",
    "    if ' on ' in nmi:\n",
    "        #print(\"Removing anything after ' on ' from this item:\", nmi)\n",
    "        reg_str = '\\son\\s.*$'\n",
    "        nmi = re.sub(reg_str, '', nmi)\n",
    "\n",
    "    if ' examining ' in nmi:\n",
    "        #print(\"Removing anything after ' examining ' from this item:\", nmi)\n",
    "        reg_str = '\\sexamining\\s.*$'\n",
    "        nmi = re.sub(reg_str, '', nmi)\n",
    "\n",
    "    if 'Mr.' in nmi or 'Mrs.' in nmi: #order matters, after the other Mrs. one\n",
    "        #print(\"Deleting this entry:\", i,',',nmi)\n",
    "        #del nmi\n",
    "        nmi = {}\n",
    "\n",
    "    return nmi"
   ]
  },
  {
   "cell_type": "markdown",
   "metadata": {},
   "source": [
    "At some point I changed my representation of how I'm storing the files. The function `clean_things2` was written after that adjustment, so I have to loop through each dictionary item individually, unlike the above functions. I have the older `clean_things()` function preserved at the end of the notebook as an archive.\n",
    "\n",
    "Also because of that change in approach, I had to write some code to sort out lists being generated instead of dictionary items."
   ]
  },
  {
   "cell_type": "code",
   "execution_count": 25,
   "metadata": {},
   "outputs": [],
   "source": [
    "def cleaning_and_splitting(nms):\n",
    "    for i in nms:\n",
    "        for j in nms[i]:\n",
    "            #print(i,j)\n",
    "            nms[i][j] = clean_things2(nms[i][j])\n",
    "\n",
    "    nmi_temp = {}\n",
    "    for i in nms:\n",
    "        for j in nms[i]:\n",
    "            if type(nms[i][j]) is list:\n",
    "                nmi_temp[int(i)] = {int(j): nms[i][j]}\n",
    "\n",
    "    nmi_split = {}\n",
    "    for i in nmi_temp:\n",
    "        nmi_split[i] = {}\n",
    "        for j in nmi_temp[i]:\n",
    "            n = len(nms[i])\n",
    "            for k in nmi_temp[i][j]:\n",
    "                nmi_split[i][n] = k\n",
    "                n += 1\n",
    "\n",
    "    for i in nmi_temp:\n",
    "        for j in nmi_temp[i]:\n",
    "            del(nms[i][j])\n",
    "\n",
    "    for i in nmi_split:\n",
    "        for j in nmi_split[i]:\n",
    "            nms[i][j] = nmi_split[i][j]\n",
    "    \n",
    "    return nms"
   ]
  },
  {
   "cell_type": "markdown",
   "metadata": {},
   "source": [
    "This bit here uses the NLP function above to generate a list of dictionary items that should be deleted."
   ]
  },
  {
   "cell_type": "code",
   "execution_count": 24,
   "metadata": {},
   "outputs": [],
   "source": [
    "    def sp_nlp(nmi):\n",
    "        doc = nlp(nmi)\n",
    "        in_tok_n = [] #token is noun\n",
    "        tok_n = np.array(in_tok_n)\n",
    "        j = 0\n",
    "        deli = 0\n",
    "        for token in doc:\n",
    "            if token.pos_ == 'PROPN':\n",
    "                tok_n = np.append(tok_n, 1)\n",
    "            else:\n",
    "                #tok_n[j] = 0\n",
    "                tok_n = np.append(tok_n, 0)\n",
    "            j = j+1\n",
    "\n",
    "        if np.mean(tok_n) < 0.5:\n",
    "            #print('\\n', token.text, '\\n', token.pos_, '\\n', nmi)\n",
    "            deli = 1 #delete_item\n",
    "        return deli"
   ]
  },
  {
   "cell_type": "code",
   "execution_count": 75,
   "metadata": {},
   "outputs": [],
   "source": [
    "def cleaning_nlp(nms):\n",
    "\n",
    "    del_ar = []\n",
    "\n",
    "    for m,i in nms.items():\n",
    "        for j,k in i.items():\n",
    "            \n",
    "            if k is str: #if its not a string (so empty dict or list, sp_nlp chokes)    \n",
    "                deli = sp_nlp(k)\n",
    "                if deli == 1:\n",
    "                    del_ar.append([m,j])\n",
    "\n",
    "    for i in del_ar:\n",
    "        del nms[i[0]][i[1]]\n",
    "\n",
    "    return nms"
   ]
  },
  {
   "cell_type": "markdown",
   "metadata": {},
   "source": [
    "This 'cleans up' the dictionary so the keys are sequential. I don't think it really matters, but I added it for some reason, and see no reason to delete it right now."
   ]
  },
  {
   "cell_type": "code",
   "execution_count": 27,
   "metadata": {},
   "outputs": [],
   "source": [
    "def reordering_nms(nms):\n",
    "\n",
    "    for l,i in nms.items():\n",
    "        k = 0\n",
    "        new_dict = {}\n",
    "        for j in i:\n",
    "            new_dict[k] = i[j]\n",
    "            k += 1\n",
    "        nms[l] = new_dict\n",
    "    \n",
    "    return nms"
   ]
  },
  {
   "cell_type": "code",
   "execution_count": 28,
   "metadata": {},
   "outputs": [],
   "source": [
    "def scrape_and_extract(page):\n",
    "\n",
    "    soup = BeautifulSoup(page, 'lxml')\n",
    "    cmp = getcaptions(soup)\n",
    "    cmp = strip_clean(cmp)\n",
    "    nms = split_names(cmp)\n",
    "    nms = cleaning_and_splitting(nms)\n",
    "    nms = cleaning_nlp(nms)\n",
    "    nms = reordering_nms(nms)\n",
    "    \n",
    "    return nms"
   ]
  },
  {
   "cell_type": "code",
   "execution_count": 89,
   "metadata": {},
   "outputs": [
    {
     "name": "stdout",
     "output_type": "stream",
     "text": [
      "0 \n",
      "1 2 3 4 5 6 7 8 9 10 11 12 13 14 15 16 17 18 19 20 \n",
      "21 22 23 24 25 26 27 28 29 30 31 32 33 34 35 36 37 38 39 40 \n",
      "41 42 43 44 45 46 47 48 49 50 51 52 53 54 55 56 57 58 59 60 \n",
      "61 62 63 64 65 66 67 68 69 70 71 72 73 74 75 76 77 78 79 80 \n",
      "81 82 83 84 85 86 87 88 89 90 91 92 93 94 95 96 97 98 99 100 \n",
      "101 102 103 104 105 106 107 108 109 110 111 112 113 114 115 116 117 118 119 120 \n",
      "121 122 123 124 125 126 127 128 129 130 131 132 133 134 135 136 137 138 139 140 \n",
      "141 142 143 144 145 146 147 148 149 150 151 152 153 154 155 156 157 158 159 160 \n",
      "161 162 163 164 165 166 167 168 169 170 171 172 173 174 175 176 177 178 179 180 \n",
      "181 182 183 184 185 186 187 188 189 190 191 192 193 194 195 196 197 198 199 200 \n",
      "201 202 203 204 205 206 207 208 209 210 211 212 213 214 215 216 217 218 219 220 \n",
      "221 222 223 224 225 226 227 228 229 230 231 232 233 234 235 236 237 238 239 240 \n",
      "241 242 243 244 245 246 247 248 249 250 251 252 253 254 255 256 257 258 259 260 \n",
      "261 262 263 264 265 266 267 268 269 270 271 272 273 274 275 276 277 278 279 280 \n",
      "281 282 283 284 285 286 287 288 289 290 291 292 293 294 295 296 297 298 299 300 \n",
      "301 302 303 304 305 306 307 308 309 310 311 312 313 314 315 316 317 318 319 320 \n",
      "321 322 323 324 325 326 327 328 329 330 331 332 333 334 335 336 337 338 339 340 \n",
      "341 342 343 344 345 346 347 348 349 350 351 352 353 354 355 356 357 358 359 360 \n",
      "361 362 363 364 365 366 367 368 369 370 371 372 373 374 375 376 377 378 379 380 \n",
      "381 382 383 384 385 386 387 388 389 390 391 392 393 394 395 396 397 398 399 400 \n",
      "401 402 403 404 405 406 407 408 409 410 411 412 413 414 415 416 417 418 419 420 \n",
      "421 422 423 424 425 426 427 428 429 430 431 432 433 434 435 436 437 438 439 440 \n",
      "441 442 443 444 445 446 447 448 449 450 451 452 453 454 455 456 457 458 459 460 \n",
      "461 462 463 464 465 466 467 468 469 470 471 472 473 474 475 476 477 478 479 480 \n",
      "481 482 483 484 485 486 487 488 489 490 491 492 493 494 495 496 497 498 499 500 \n",
      "501 502 503 504 505 506 507 508 509 510 511 512 513 514 515 516 517 518 519 520 \n",
      "521 522 523 524 525 526 527 528 529 530 531 532 533 534 535 536 537 538 539 540 \n",
      "541 542 543 544 545 546 547 548 549 550 551 552 553 554 555 556 557 558 559 560 \n",
      "561 562 563 564 565 566 567 568 569 570 571 572 573 574 575 576 577 578 579 580 \n",
      "581 582 583 584 585 586 587 588 589 590 591 592 593 594 595 596 597 598 599 600 \n",
      "601 602 603 604 605 606 607 608 609 610 611 612 613 614 615 616 617 618 619 620 \n",
      "621 622 623 624 625 626 627 628 629 630 631 632 633 634 635 636 637 638 639 640 \n",
      "641 642 643 644 645 646 647 648 649 650 651 652 653 654 655 656 657 658 659 660 \n",
      "661 662 663 664 665 666 667 668 669 670 671 672 673 674 675 676 677 678 679 680 \n",
      "681 682 683 684 685 686 687 688 689 690 691 692 693 694 695 696 697 698 699 700 \n",
      "701 702 703 704 705 706 707 708 709 710 711 712 713 714 715 716 717 718 719 720 \n",
      "721 722 723 724 725 726 727 728 729 730 731 732 733 734 735 736 737 738 739 740 \n",
      "741 742 743 744 745 746 747 748 749 750 751 752 753 754 755 756 757 758 759 760 \n",
      "761 762 763 764 765 766 767 768 769 770 771 772 773 774 775 776 777 778 779 780 \n",
      "781 782 783 784 785 786 787 788 789 790 791 792 793 794 795 796 797 798 799 800 \n",
      "801 802 803 804 805 806 807 808 809 810 811 812 813 814 815 816 817 818 819 820 \n",
      "821 822 823 824 825 826 827 828 829 830 831 832 833 834 835 836 837 838 839 840 \n",
      "841 842 843 844 845 846 847 848 849 850 851 852 853 854 855 856 857 858 859 860 \n",
      "861 862 863 864 865 866 867 868 869 870 871 872 873 874 875 876 877 878 879 880 \n",
      "881 882 883 884 885 886 887 888 889 890 891 892 893 894 895 896 897 898 899 900 \n",
      "901 902 903 904 905 906 907 908 909 910 911 912 913 914 915 916 917 918 919 920 \n",
      "921 922 923 924 925 926 927 928 929 930 931 932 933 934 935 936 937 938 939 940 \n",
      "941 942 943 944 945 946 947 948 949 950 951 952 953 954 955 956 957 958 959 960 \n",
      "961 962 963 964 965 966 967 968 969 970 971 972 973 974 975 976 977 978 979 980 \n",
      "981 982 983 984 985 986 987 988 989 990 991 992 993 994 995 996 997 998 999 1000 \n",
      "1001 1002 1003 1004 1005 1006 1007 1008 1009 1010 1011 1012 1013 1014 1015 1016 1017 1018 1019 1020 \n",
      "1021 1022 1023 1024 1025 1026 1027 1028 1029 1030 1031 1032 1033 1034 1035 1036 1037 1038 1039 1040 \n",
      "1041 1042 1043 1044 1045 1046 1047 1048 1049 1050 1051 1052 1053 1054 1055 1056 1057 1058 1059 1060 \n",
      "1061 1062 1063 1064 1065 1066 1067 1068 1069 1070 1071 1072 1073 1074 1075 1076 1077 1078 1079 1080 \n",
      "1081 1082 1083 1084 1085 1086 1087 1088 1089 1090 1091 1092 1093 1094 1095 1096 1097 1098 1099 1100 \n",
      "1101 1102 1103 1104 1105 1106 1107 1108 1109 1110 1111 1112 1113 1114 1115 1116 1117 1118 1119 1120 \n",
      "1121 1122 1123 1124 1125 1126 1127 1128 1129 1130 1131 1132 1133 1134 1135 1136 1137 1138 1139 1140 \n",
      "1141 1142 1143 1144 1145 1146 1147 1148 1149 1150 1151 1152 1153 1154 1155 1156 1157 1158 1159 1160 \n",
      "1161 1162 1163 1164 1165 1166 1167 1168 1169 1170 1171 1172 1173 1174 1175 1176 1177 1178 1179 1180 \n",
      "1181 1182 1183 1184 1185 1186 1187 1188 1189 1190 1191 1192 1193 1194 1195 1196 1197 1198 1199 1200 \n",
      "1201 1202 1203 1204 1205 1206 1207 1208 1209 1210 1211 1212 "
     ]
    }
   ],
   "source": [
    "nmp = []\n",
    "\n",
    "for h,k in enumerate(all_pages):\n",
    "    print(f'{h} ', end='')\n",
    "    if h%20 == 0:\n",
    "        print('')\n",
    "        \n",
    "    nms = scrape_and_extract(k)\n",
    "\n",
    "    for i in nms.values():\n",
    "        nmj = list(itertools.combinations(i.values(), 2))\n",
    "        for j in nmj:\n",
    "            nmp.append(j)\n"
   ]
  },
  {
   "cell_type": "code",
   "execution_count": 91,
   "metadata": {},
   "outputs": [],
   "source": [
    "dill.dump(nmp, open('paired_list.pkd', 'wb'))\n",
    "#nmp = dill.load(open('paired_list.pkd', 'rb'))"
   ]
  },
  {
   "cell_type": "markdown",
   "metadata": {},
   "source": [
    "All in all, I end up with about 200,000 pairs."
   ]
  },
  {
   "cell_type": "markdown",
   "metadata": {},
   "source": [
    "## Phase 3"
   ]
  },
  {
   "cell_type": "markdown",
   "metadata": {},
   "source": [
    "Now that the hard part of scraping, extracting, and parsing has been done, we can get to the fun part of using a [network](http://en.wikipedia.org/wiki/Computer_network) or a\n",
    "[graph](https://en.wikipedia.org/wiki/Graph_%28discrete_mathematics%29) to tease out relationships. Any time a pair of people appear in a photo together, that is considered a link. I'll use an undirected [weighted graph](http://en.wikipedia.org/wiki/Graph_%28mathematics%29#Weighted_graph) to analyze the social graph of the New York social elite."
   ]
  },
  {
   "cell_type": "markdown",
   "metadata": {},
   "source": [
    "## Checkpoint 3: degree\n"
   ]
  },
  {
   "cell_type": "markdown",
   "metadata": {},
   "source": [
    "The simplest question to ask is \"who is the most popular\"?  The easiest way to answer this question is to look at how many connections everyone has."
   ]
  },
  {
   "cell_type": "code",
   "execution_count": 110,
   "metadata": {},
   "outputs": [],
   "source": [
    "\n",
    "G=nx.Graph()\n",
    "\n",
    "for i in nmp:\n",
    "    #print(i)\n",
    "    if type(i) is tuple:\n",
    "        if (type(i[0]) is str) & (type(i[1]) is str):\n",
    "            if G.has_edge(i[0],i[1]):\n",
    "                G.edges[i[0], i[1]]['weight'] += 1\n",
    "                    #print(G.edges[i[0], i[1]]['weight'])\n",
    "            else:\n",
    "                G.add_edge(*i, weight = 1)\n"
   ]
  },
  {
   "cell_type": "code",
   "execution_count": null,
   "metadata": {},
   "outputs": [],
   "source": [
    "nd = G.degree\n",
    "sorted_nd = sorted(nd, key=operator.itemgetter(1))\n",
    "sorted_nd.reverse()\n",
    "print(sorted_nd[0:100])\n",
    "\n",
    "nd_50 = []\n",
    "for i in sorted_nd:\n",
    "    nd_50.append((i[0], int(i[1])))"
   ]
  },
  {
   "cell_type": "code",
   "execution_count": 123,
   "metadata": {},
   "outputs": [
    {
     "name": "stdout",
     "output_type": "stream",
     "text": [
      "('Jean Shafiroff', 393)\n",
      "('Mark Gilbertson', 321)\n",
      "('Geoffrey Bradfield', 211)\n",
      "('Alexandra Lebenthal', 195)\n",
      "('Gillian Miniter', 191)\n",
      "('Mario Buatta', 183)\n",
      "('', 182)\n",
      "('Michael Bloomberg', 175)\n",
      "('Alina Cho', 173)\n",
      "('Somers Farkas', 165)\n",
      "('Sharon Bush', 165)\n",
      "('Yaz Hernandez', 164)\n",
      "('Debbie Bancroft', 163)\n",
      "('Andrew Saffir', 162)\n",
      "('Kamie Lightburn', 162)\n",
      "('Lucia Hwong Gordon', 156)\n",
      "('Patrick McMullan', 152)\n",
      "('Muffie Potter Aston', 150)\n",
      "('Allison Aston', 148)\n",
      "('Eleanora Kennedy', 146)\n"
     ]
    }
   ],
   "source": [
    "for i in nd_50[0:20]:\n",
    "    print(i)"
   ]
  },
  {
   "cell_type": "markdown",
   "metadata": {},
   "source": [
    "## Checkpoint 4: PageRank\n"
   ]
  },
  {
   "cell_type": "markdown",
   "metadata": {},
   "source": [
    "A similar way to determine popularity is to look at their\n",
    "[PageRank](http://en.wikipedia.org/wiki/PageRank).  PageRank is used for web ranking and was originally\n",
    "[patented](http://patft.uspto.gov/netacgi/nph-Parser?patentnumber=6285999) by Google and is essentially the stationary distribution of a [Markov\n",
    "chain](http://en.wikipedia.org/wiki/Markov_chain) implied by the social graph. I will use `networkx` to generate PageRank."
   ]
  },
  {
   "cell_type": "code",
   "execution_count": null,
   "metadata": {},
   "outputs": [],
   "source": [
    "pr = nx.pagerank(G)\n",
    "sorted_pr = sorted(pr.items(), key=operator.itemgetter(1))\n",
    "sorted_pr.reverse()"
   ]
  },
  {
   "cell_type": "code",
   "execution_count": 122,
   "metadata": {},
   "outputs": [
    {
     "name": "stdout",
     "output_type": "stream",
     "text": [
      "('Jean Shafiroff', 0.0006507011754273504)\n",
      "('Mark Gilbertson', 0.0004984080212498609)\n",
      "('Gillian Miniter', 0.00038321998504372147)\n",
      "('Geoffrey Bradfield', 0.00038221409511807604)\n",
      "('', 0.0003655104723724084)\n",
      "('Alexandra Lebenthal', 0.0003438944542726845)\n",
      "('Andrew Saffir', 0.0003012030793997263)\n",
      "('Mario Buatta', 0.00028958926734024416)\n",
      "('Sharon Bush', 0.00028903557006286176)\n",
      "('Yaz Hernandez', 0.00028669585161091395)\n",
      "('Debbie Bancroft', 0.0002854868254226499)\n",
      "('Kamie Lightburn', 0.0002672859834960708)\n",
      "('Michael Bloomberg', 0.0002668840714577366)\n",
      "('Alina Cho', 0.0002638994428635821)\n",
      "('Somers Farkas', 0.00026340644679931255)\n",
      "('Eleanora Kennedy', 0.00024923599735766374)\n",
      "('PhD', 0.00023915693496326398)\n",
      "('Lucia Hwong Gordon', 0.00023762697337202318)\n",
      "('friends', 0.00023466434535043677)\n",
      "('Barbara Tober', 0.0002298265770105754)\n"
     ]
    }
   ],
   "source": [
    "for i in sorted_pr[0:20]:\n",
    "    print(i)"
   ]
  },
  {
   "cell_type": "markdown",
   "metadata": {},
   "source": [
    "## Checkpoint 5: best_friends\n"
   ]
  },
  {
   "cell_type": "markdown",
   "metadata": {},
   "source": [
    "Another interesting question is who tend to hangout with whom, the most. This can be determined by sorting edges with the highest weights. I have just printed the top 20."
   ]
  },
  {
   "cell_type": "code",
   "execution_count": null,
   "metadata": {},
   "outputs": [],
   "source": [
    "ct = 0\n",
    "bf = []\n",
    "for (u,v,d) in G.edges(data='weight'):\n",
    "    if d >9:\n",
    "        #print(u, v, d)\n",
    "        bf.append(((u, v), d))\n",
    "        ct += 1\n",
    "\n",
    "sorted_bf = sorted(bf, key=operator.itemgetter(1))\n",
    "sorted_bf.reverse()"
   ]
  },
  {
   "cell_type": "code",
   "execution_count": 121,
   "metadata": {},
   "outputs": [
    {
     "name": "stdout",
     "output_type": "stream",
     "text": [
      "(('Gillian Miniter', 'Sylvester Miniter'), 97)\n",
      "(('Bonnie Comley', 'Stewart Lane'), 68)\n",
      "(('Jamee Gregory', 'Peter Gregory'), 61)\n",
      "(('Geoffrey Bradfield', 'Roric Tobin'), 61)\n",
      "(('Daniel Benedict', 'Andrew Saffir'), 58)\n",
      "(('Somers Farkas', 'Jonathan Farkas'), 43)\n",
      "(('Alexandra Lebenthal', 'Jay Diamond'), 42)\n",
      "(('Barbara Tober', 'Donald Tober'), 41)\n",
      "(('Jean Shafiroff', 'Martin Shafiroff'), 41)\n",
      "(('Sessa von Richthofen', 'Richard Johnson'), 34)\n",
      "(('Yaz Hernandez', 'Valentin Hernandez'), 34)\n",
      "(('Chappy Morris', 'Melissa Morris'), 33)\n",
      "(('Campion Platt', 'Tatiana Platt'), 32)\n",
      "(('Deborah Norville', 'Karl Wellner'), 32)\n",
      "(('Barbara Regna', 'Peter Regna'), 32)\n",
      "(('Guy Robinson', 'Elizabeth Stribling'), 32)\n",
      "(('Margo Catsimatidis', 'John Catsimatidis'), 31)\n",
      "(('Jonathan Tisch', 'Lizzie Tisch'), 31)\n",
      "(('Hilary Geary Ross', 'Wilbur Ross'), 30)\n",
      "(('Eleanora Kennedy', 'Michael Kennedy'), 29)\n"
     ]
    }
   ],
   "source": [
    "for i in sorted_bf[0:20]:\n",
    "    print(i)"
   ]
  },
  {
   "cell_type": "markdown",
   "metadata": {},
   "source": [
    "## Code not used"
   ]
  },
  {
   "cell_type": "code",
   "execution_count": null,
   "metadata": {},
   "outputs": [],
   "source": [
    "def clean_things(nms):\n",
    "\n",
    "\n",
    "    for i in nms:\n",
    "        if 'and ' in nms[i]:\n",
    "            print(\"Removing 'and' from from of this item:\", nms[i])\n",
    "            reg_str = '^and\\s'\n",
    "            nms[i] = re.sub(reg_str, '', nms[i])\n",
    "\n",
    "        if 'with ' in nms[i]:\n",
    "            print(\"Removing 'with' from from of this item:\", nms[i])\n",
    "            reg_str = ' with '\n",
    "            nms[i], nms[nml] = nms[i].split(reg_str)\n",
    "\n",
    "        if 'Dr. ' in nms[i]:\n",
    "            print(\"Removing 'Dr. ' from this item\", nms[i])\n",
    "            reg_str = '^Dr\\.\\s'\n",
    "            nms[i] = re.sub(reg_str, '', nms[i])\n",
    "\n",
    "        if 'Mr. ' in nms[i]:\n",
    "            print(\"Removing 'Mr. ' from this item:\", nms[i])\n",
    "            reg_str = '^Mr\\.\\s'\n",
    "            nms[i] = re.sub(reg_str, '', nms[i])\n",
    "\n",
    "        if 'Mrs. ' in nms[i]:\n",
    "            print(\"Removing 'Mrs. ' from this item:\", nms[i])\n",
    "            reg_str = '^Mrs\\.\\s'\n",
    "            nms[i] = re.sub(reg_str, '', nms[i])\n",
    "\n",
    "        if 'Esq.' in nms[i]:\n",
    "            print(\"Removing 'Esq. ' from this item:\", nms[i])\n",
    "            reg_str = '\\s*Esq\\.$'\n",
    "            nms[i] = re.sub(reg_str, '', nms[i])\n",
    "\n",
    "        if ' on ' in nms[i]:\n",
    "            print(\"Removing anything after ' on ' from this item:\", nms[i])\n",
    "            reg_str = '\\son\\s.*$'\n",
    "            nms[i] = re.sub(reg_str, '', nms[i])\n",
    "            \n",
    "    return nms"
   ]
  }
 ],
 "metadata": {
  "kernelspec": {
   "display_name": "Python 3",
   "language": "python",
   "name": "python3"
  },
  "language_info": {
   "codemirror_mode": {
    "name": "ipython",
    "version": 3
   },
   "file_extension": ".py",
   "mimetype": "text/x-python",
   "name": "python",
   "nbconvert_exporter": "python",
   "pygments_lexer": "ipython3",
   "version": "3.7.4"
  },
  "nbclean": true
 },
 "nbformat": 4,
 "nbformat_minor": 1
}
